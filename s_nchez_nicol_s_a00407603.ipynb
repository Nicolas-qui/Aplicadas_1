{
  "nbformat": 4,
  "nbformat_minor": 0,
  "metadata": {
    "colab": {
      "provenance": [],
      "authorship_tag": "ABX9TyP1pzk+Cx3zJv/+enw25Zl5",
      "include_colab_link": true
    },
    "kernelspec": {
      "name": "python3",
      "display_name": "Python 3"
    },
    "language_info": {
      "name": "python"
    }
  },
  "cells": [
    {
      "cell_type": "markdown",
      "metadata": {
        "id": "view-in-github",
        "colab_type": "text"
      },
      "source": [
        "<a href=\"https://colab.research.google.com/github/Nicolas-qui/Aplicadas_1/blob/main/s_nchez_nicol_s_a00407603.ipynb\" target=\"_parent\"><img src=\"https://colab.research.google.com/assets/colab-badge.svg\" alt=\"Open In Colab\"/></a>"
      ]
    },
    {
      "cell_type": "code",
      "execution_count": null,
      "metadata": {
        "id": "FxO5VSwdixGU"
      },
      "outputs": [],
      "source": []
    },
    {
      "cell_type": "markdown",
      "source": [
        "##Autobiografía\n",
        "\n",
        "<img src=\"https://ih1.redbubble.net/image.5381473066.7726/raf,360x360,075,t,fafafa:ca443f4786.u1.jpg\" >\n",
        "\n",
        "Mi nombre es Nicolás Sánchez tengo 17 años, vivo en Palmira. Actualmente estoy estudiando en la universidad Icesi química con énfasis en bioquímica. Elegí esta carrera ya que desde pequeño siempre he sido muy activo y curioso, siempre me ha llamada la atención la ciencia y me gusta aprender cosas nuevas. Me gustan muchos los animales, tengo cuatro mascotas y la zootecnia siempre fué mi segunda opción frente a una carrera. Suelo usar mi tiempo libre para hacer algún deporte como por ejemlo la natación. También suelo escuchar música o intentar aprender a tocar algún instrumento. Me gustan mucho las series, las películas y el anime, por lo que suelo gastar mucho tiempo en esto.\n",
        "\n",
        "##Canciones\n",
        "\n",
        ">The less i know the better\n",
        ">>Tame Impala\n",
        ">>>Kevin Parker\n",
        "\n",
        "\n",
        "\n",
        ">Baby said\n",
        ">>Maneskin\n",
        ">>>Damiano David"
      ],
      "metadata": {
        "id": "0OeZPzmQjfZt"
      }
    }
  ]
}